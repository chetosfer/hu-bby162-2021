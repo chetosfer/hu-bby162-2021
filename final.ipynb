{
  "nbformat": 4,
  "nbformat_minor": 0,
  "metadata": {
    "colab": {
      "name": "final.ipynb",
      "provenance": [],
      "mount_file_id": "1gZGKsvPHe2-ragV3trWaAybhMIlB8W9t",
      "authorship_tag": "ABX9TyNh/AUDE121jpMOq/yL9cMM",
      "include_colab_link": true
    },
    "kernelspec": {
      "name": "python3",
      "display_name": "Python 3"
    },
    "language_info": {
      "name": "python"
    }
  },
  "cells": [
    {
      "cell_type": "markdown",
      "metadata": {
        "id": "view-in-github",
        "colab_type": "text"
      },
      "source": [
        "<a href=\"https://colab.research.google.com/github/chetosfer/hu-bby162-2021/blob/main/final.ipynb\" target=\"_parent\"><img src=\"https://colab.research.google.com/assets/colab-badge.svg\" alt=\"Open In Colab\"/></a>"
      ]
    },
    {
      "cell_type": "code",
      "metadata": {
        "colab": {
          "base_uri": "https://localhost:8080/"
        },
        "id": "-lh19mcjoou3",
        "outputId": "537bf5ab-a181-4336-ec84-339b1266725f"
      },
      "source": [
        "#Kütüphane Otomasyonu\n",
        "#Veri Tabanı:/content/drive/MyDrive/Colab Notebooks/Yeni Metin Belgesi.txt\n",
        "\n",
        "dosya = \"/content/drive/MyDrive/Colab Notebooks/Yeni Metin Belgesi.txt\"\n",
        "print(\"Hoş Geldiniz!\")\n",
        "\n",
        "def belgeListele():\n",
        "  f = open(dosya, 'r')\n",
        "  for line in f.readlines():\n",
        "    print(line)\n",
        "  f.close()\n",
        "\n",
        "def belgeKaydet():\n",
        "  belgeAdi = input(\"Başlık bilgisini giriniz: \")\n",
        "  belgeYazari = input(\"Yazar bilgisini giriniz: \")\n",
        "  belgeYayinevi = input(\"Yayınevi bilgisini giriniz: \")\n",
        "  belgeBasimYili = input (\"Yayın yılı bilgisini giriniz: \")\n",
        "  belgeIsbn = input(\"ISBN bilgilerini giriniz: \")\n",
        "  f = open(dosya, 'a' )\n",
        "  f.write(belgeAdi + \" , \" + belgeYazari + \" , \" + belgeYayinevi + \" , \" + belgeIsbn + '\\n')\n",
        "  print(\"Başarıyla eklendi.\")\n",
        "  f.close()\n",
        "\n",
        "islemSecme = [\"listele\", \"ekle\", \"kapat\"]\n",
        "while islemSecme:\n",
        "  girilen_islem = input(\"Katalogdaki eser listesini görüntülemek için 'listele' yazınız. \\n\"\n",
        "      \"Yeni eser kaydı eklemek için 'ekle' yazınız.\\n\"\n",
        "      \"Sistemden çıkmak için 'kapat' yazınız.\\n\"\n",
        "      \"Tüm alanlarda aranacak kelimeyi giriniz: \")\n",
        "\n",
        "  if girilen_islem == islemSecme[0]:\n",
        "    print(\"Hoş Geldiniz!\")\n",
        "    belgeListele()\n",
        "  elif girilen_islem == islemSecme[1]:\n",
        "    print(\"Yeni bir kaynak kaydı giriniz.\")\n",
        "    belgeKaydet()\n",
        "  elif girilen_islem == islemSecme[2]:\n",
        "    break\n"
      ],
      "execution_count": 3,
      "outputs": [
        {
          "output_type": "stream",
          "text": [
            "Hoş Geldiniz!\n",
            "Katalogdaki eser listesini görüntülemek için 'listele' yazınız. \n",
            "Yeni eser kaydı eklemek için 'ekle' yazınız.\n",
            "Sistemden çıkmak için 'kapat' yazınız.\n",
            "Tüm alanlarda aranacak kelimeyi giriniz: listele\n",
            "Hoş Geldiniz!\n",
            "ağrıdağı efsanesi,yaşar kemal,yapı kredi,2018,9789750807411\n",
            "\n",
            "karamazov kardeşler,fyodor dostoyevski,can,2020,3643659465436\n",
            "\n",
            "gurbet hikayeleri,refik halid karay,inkılap,2017,45692353848436\n",
            "\n",
            "beklemek cehennemdir,william shakespeare,epona,2019,327013974947\n",
            "\n",
            "bir kapı önünde,özdemir asaf,adam,1987,8757049750947\n",
            "Katalogdaki eser listesini görüntülemek için 'listele' yazınız. \n",
            "Yeni eser kaydı eklemek için 'ekle' yazınız.\n",
            "Sistemden çıkmak için 'kapat' yazınız.\n",
            "Tüm alanlarda aranacak kelimeyi giriniz: ekle\n",
            "Yeni bir kaynak kaydı giriniz.\n",
            "Başlık bilgisini giriniz: suç ve ceza\n",
            "Yazar bilgisini giriniz: dostoyevski\n",
            "Yayınevi bilgisini giriniz: can\n",
            "Yayın yılı bilgisini giriniz: 2020\n",
            "ISBN bilgilerini giriniz: 785348756\n",
            "Başarıyla eklendi.\n",
            "Katalogdaki eser listesini görüntülemek için 'listele' yazınız. \n",
            "Yeni eser kaydı eklemek için 'ekle' yazınız.\n",
            "Sistemden çıkmak için 'kapat' yazınız.\n",
            "Tüm alanlarda aranacak kelimeyi giriniz: kapat\n"
          ],
          "name": "stdout"
        }
      ]
    }
  ]
}