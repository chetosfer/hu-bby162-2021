{
  "nbformat": 4,
  "nbformat_minor": 0,
  "metadata": {
    "colab": {
      "name": "adres",
      "provenance": [],
      "authorship_tag": "ABX9TyO8LHiw2pBZ3jQmUOlXjDkE",
      "include_colab_link": true
    },
    "kernelspec": {
      "name": "python3",
      "display_name": "Python 3"
    },
    "language_info": {
      "name": "python"
    }
  },
  "cells": [
    {
      "cell_type": "markdown",
      "metadata": {
        "id": "view-in-github",
        "colab_type": "text"
      },
      "source": [
        "<a href=\"https://colab.research.google.com/github/chetosfer/hu-bby162-2021/blob/main/adres.ipynb\" target=\"_parent\"><img src=\"https://colab.research.google.com/assets/colab-badge.svg\" alt=\"Open In Colab\"/></a>"
      ]
    },
    {
      "cell_type": "code",
      "metadata": {
        "colab": {
          "base_uri": "https://localhost:8080/"
        },
        "id": "R-teq36IahAC",
        "outputId": "b044f415-67af-44ab-da6e-22bdf845d3b0"
      },
      "source": [
        "dosya = \"/content/adres\"\n",
        "f = open(dosya, 'a')\n",
        "bilgiler = input(\"İstenilen bilgi\")\n",
        "f.write (bilgiler + \"\\n\")\n",
        "f.close()\n",
        "f = open(dosya, 'r')\n",
        "for line in f. readlines():\n",
        "  print(line)\n",
        "f.close()"
      ],
      "execution_count": 3,
      "outputs": [
        {
          "output_type": "stream",
          "text": [
            "İstenilen bilgimerhabalarben69@gmail.com\n",
            "mustafa çetin\n",
            "\n",
            "merhabalarben69@gmail.com\n",
            "\n"
          ],
          "name": "stdout"
        }
      ]
    }
  ]
}